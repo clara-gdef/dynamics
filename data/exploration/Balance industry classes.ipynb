{
 "cells": [
  {
   "cell_type": "code",
   "execution_count": 1,
   "metadata": {},
   "outputs": [],
   "source": [
    "import pickle as pkl\n",
    "import matplotlib.pyplot as plt\n",
    "import numpy as np \n",
    "from tqdm import tqdm\n",
    "from collections import Counter\n",
    "import os\n",
    "import yaml"
   ]
  },
  {
   "cell_type": "code",
   "execution_count": 2,
   "metadata": {},
   "outputs": [],
   "source": [
    "with open(\"../../config.yaml\", \"r\") as ymlfile:\n",
    "    CFG = yaml.load(ymlfile, Loader=yaml.SafeLoader)"
   ]
  },
  {
   "cell_type": "code",
   "execution_count": 3,
   "metadata": {},
   "outputs": [],
   "source": [
    "splits = [\"TRAIN\", \"VALID\", \"TEST\"]\n",
    "datasets = []\n",
    "for split in splits:\n",
    "    datasets.append(pkl.load(open(os.path.join(CFG[\"gpudatadir\"], f\"StringDataset_5exp_delta_no_unk_{split}.pkl\"), \"rb\")))"
   ]
  },
  {
   "cell_type": "code",
   "execution_count": 4,
   "metadata": {},
   "outputs": [
    {
     "name": "stderr",
     "output_type": "stream",
     "text": [
      "100%|██████████| 3/3 [00:01<00:00,  1.68it/s]\n"
     ]
    }
   ],
   "source": [
    "ind_count = Counter()\n",
    "modified_ind = Counter()\n",
    "for i in tqdm(range(len(datasets))):\n",
    "    for j in datasets[i][\"tuples\"]:\n",
    "        ind_count[j[\"ind_index\"]] += 1\n",
    "        modified_ind[j[\"ind_index\"]] += 1"
   ]
  },
  {
   "cell_type": "code",
   "execution_count": 7,
   "metadata": {},
   "outputs": [
    {
     "name": "stdout",
     "output_type": "stream",
     "text": [
      "3026604\n"
     ]
    }
   ],
   "source": [
    "total_people = sum(ind_count.values())\n",
    "print(total_people)"
   ]
  },
  {
   "cell_type": "code",
   "execution_count": 10,
   "metadata": {},
   "outputs": [
    {
     "name": "stdout",
     "output_type": "stream",
     "text": [
      "[(63, 187801), (83, 168950), (24, 86485)]\n",
      "1178823\n"
     ]
    }
   ],
   "source": [
    "print(ind_count.most_common(3))\n",
    "modified_ind.pop(63)\n",
    "modified_ind.pop(83)"
   ]
  },
  {
   "cell_type": "code",
   "execution_count": 12,
   "metadata": {},
   "outputs": [
    {
     "name": "stdout",
     "output_type": "stream",
     "text": [
      "1178823\n",
      "[7.336555191067701, 7.137882447152796, 6.363890083583371, 6.253865084071146, 6.239189428777688, 5.962133416127782, 5.21774685427753, 4.927202811618029, 4.883260676115074, 4.588305453829794, 4.525530974539858, 4.4914291628174885, 4.323889167415294, 4.2841885507832815, 4.0261345426751936, 3.971418949240047, 3.958609562249803, 3.9181454722210205, 3.8195725736603374, 3.7710495977767655]\n"
     ]
    }
   ],
   "source": [
    "total_people2 = sum([i[1] for i in modified_ind.most_common(20)])\n",
    "print(total_people2)\n",
    "tmp = [i[1]*100 / total_people2 for i in modified_ind.most_common(20)]\n",
    "print(tmp)"
   ]
  },
  {
   "cell_type": "code",
   "execution_count": 15,
   "metadata": {},
   "outputs": [],
   "source": [
    "retained_ind = [i[0] for i in modified_ind.most_common(20)]"
   ]
  },
  {
   "cell_type": "code",
   "execution_count": 16,
   "metadata": {},
   "outputs": [],
   "source": [
    "with open(os.path.join(CFG[\"gpudatadir\"], \"ind_class_dict.pkl\"), 'rb') as f:\n",
    "    ind_dict = pkl.load(f)\n",
    "sub_ind_dict = {k: ind_dict[i] for k, i in enumerate(retained_ind)}\n",
    "with open(os.path.join(CFG[\"gpudatadir\"], \"20_industry_dict.pkl\"), 'wb') as f:\n",
    "    pkl.dump(sub_ind_dict, f)"
   ]
  },
  {
   "cell_type": "code",
   "execution_count": 23,
   "metadata": {},
   "outputs": [
    {
     "name": "stdout",
     "output_type": "stream",
     "text": [
      "{0: 24, 1: 67, 2: 10, 3: 84, 4: 58, 5: 123, 6: 80, 7: 51, 8: 66, 9: 125, 10: 114, 11: 46, 12: 25, 13: 8, 14: 111, 15: 133, 16: 122, 17: 9, 18: 64, 19: 104}\n"
     ]
    }
   ],
   "source": [
    "ind_map_to_subsampled = {k: i for k, i in enumerate(retained_ind)}\n",
    "print(ind_map_to_subsampled)\n",
    "with open(os.path.join(CFG[\"gpudatadir\"], \"ind_map_to_subsampled.pkl\"), 'wb') as f:\n",
    "    pkl.dump(ind_map_to_subsampled, f)"
   ]
  },
  {
   "cell_type": "code",
   "execution_count": 17,
   "metadata": {},
   "outputs": [
    {
     "data": {
      "text/plain": [
       "{0: 'Computer Software',\n",
       " 1: 'Internet',\n",
       " 2: 'Banking',\n",
       " 3: 'Mechanical or Industrial Engineering',\n",
       " 4: 'Human Resources',\n",
       " 5: 'Research',\n",
       " 6: 'Management Consulting',\n",
       " 7: 'Government Administration',\n",
       " 8: 'International Trade and Development',\n",
       " 9: 'Retail',\n",
       " 10: 'Public Relations and Communications',\n",
       " 11: 'Food Production',\n",
       " 12: 'Construction',\n",
       " 13: 'Automotive',\n",
       " 14: 'Professional Training & Coaching',\n",
       " 15: 'Telecommunications',\n",
       " 16: 'Renewables & Environment',\n",
       " 17: 'Aviation & Aerospace',\n",
       " 18: 'Insurance',\n",
       " 19: 'Pharmaceuticals'}"
      ]
     },
     "execution_count": 17,
     "metadata": {},
     "output_type": "execute_result"
    }
   ],
   "source": [
    "sub_ind_dict"
   ]
  },
  {
   "cell_type": "code",
   "execution_count": 51,
   "metadata": {},
   "outputs": [
    {
     "name": "stdout",
     "output_type": "stream",
     "text": [
      "Marketing and Advertising\n",
      "Marketing and Advertising\n",
      "Marketing and Advertising\n",
      "Marketing and Advertising\n",
      "Marketing and Advertising\n",
      "Marketing and Advertising\n",
      "Marketing and Advertising\n",
      "Marketing and Advertising\n",
      "Marketing and Advertising\n",
      "Marketing and Advertising\n",
      "Marketing and Advertising\n",
      "Marketing and Advertising\n",
      "Marketing and Advertising\n",
      "Marketing and Advertising\n",
      "Marketing and Advertising\n",
      "Marketing and Advertising\n",
      "Marketing and Advertising\n",
      "Marketing and Advertising\n",
      "Marketing and Advertising\n",
      "Marketing and Advertising\n"
     ]
    }
   ],
   "source": [
    "for i in retained_ind:\n",
    "    print(ind_dict[83])"
   ]
  },
  {
   "cell_type": "code",
   "execution_count": 46,
   "metadata": {},
   "outputs": [
    {
     "data": {
      "text/plain": [
       "{0: 'Computer Software',\n",
       " 1: 'Internet',\n",
       " 2: 'Banking',\n",
       " 3: 'Mechanical or Industrial Engineering',\n",
       " 4: 'Human Resources',\n",
       " 5: 'Research',\n",
       " 6: 'Management Consulting',\n",
       " 7: 'Government Administration',\n",
       " 8: 'International Trade and Development',\n",
       " 9: 'Retail',\n",
       " 10: 'Public Relations and Communications',\n",
       " 11: 'Food Production',\n",
       " 12: 'Construction',\n",
       " 13: 'Automotive',\n",
       " 14: 'Professional Training & Coaching',\n",
       " 15: 'Telecommunications',\n",
       " 16: 'Renewables & Environment',\n",
       " 17: 'Aviation & Aerospace',\n",
       " 18: 'Insurance',\n",
       " 19: 'Pharmaceuticals'}"
      ]
     },
     "execution_count": 46,
     "metadata": {},
     "output_type": "execute_result"
    }
   ],
   "source": [
    "\n",
    "sub_ind_dict"
   ]
  },
  {
   "cell_type": "code",
   "execution_count": 53,
   "metadata": {},
   "outputs": [],
   "source": [
    "sub_ind_dict = {k: ind_dict[i] for k, i in enumerate(retained_ind)}\n",
    "with open(os.path.join(CFG[\"gpudatadir\"], \"20_industry_dict.pkl\"), 'wb') as f:\n",
    "    pkl.dump(sub_ind_dict, f)"
   ]
  },
  {
   "cell_type": "code",
   "execution_count": 13,
   "metadata": {},
   "outputs": [],
   "source": [
    "tmp = pkl.load(open(\"/local/gainondefor/work/data/class_weights_dict_delta_5exp_dynamics.pkl\", 'rb'))\n",
    "with open(\"/local/gainondefor/work/data/ind_class_dict.pkl\", 'rb') as f_name:\n",
    "    industry_dict = pkl.load(f_name)"
   ]
  },
  {
   "cell_type": "code",
   "execution_count": 7,
   "metadata": {},
   "outputs": [],
   "source": [
    "repartition = [i for i in tmp[\"ind\"].values()]"
   ]
  },
  {
   "cell_type": "code",
   "execution_count": 10,
   "metadata": {},
   "outputs": [
    {
     "data": {
      "text/plain": [
       "<BarContainer object of 147 artists>"
      ]
     },
     "execution_count": 10,
     "metadata": {},
     "output_type": "execute_result"
    },
    {
     "data": {
      "image/png": "[encoded data removed]",
      "text/plain": [
       "<Figure size 432x288 with 1 Axes>"
      ]
     },
     "metadata": {
      "needs_background": "light"
     },
     "output_type": "display_data"
    }
   ],
   "source": [
    "plt.bar(range(len(repartition)), repartition)\n"
   ]
  },
  {
   "cell_type": "code",
   "execution_count": 26,
   "metadata": {},
   "outputs": [
    {
     "name": "stdout",
     "output_type": "stream",
     "text": [
      "Computer Software\n",
      "6.222300268801963\n",
      "Commercial Real Estate\n",
      "5.631244223345091\n",
      "Alternative Dispute Resolution\n",
      "2.856578216526779\n",
      "Alternative Medicine\n",
      "2.771583289248637\n",
      "Business Supplies and Equipment\n",
      "2.4476777503207954\n",
      "Gambling & Casinos\n",
      "2.4303925125194117\n",
      "Glass, Ceramics & Concrete\n",
      "2.4210342627543313\n",
      "Education Management\n",
      "2.340883605942819\n",
      "E-Learning\n",
      "2.03481379009666\n",
      "Electrical/Electronic Manufacturing\n",
      "1.9138721740150029\n"
     ]
    }
   ],
   "source": [
    "for i in np.argsort(repartition)[::-1][:10]:\n",
    "    print(industry_dict[i])\n",
    "    print(repartition[i]*100)"
   ]
  },
  {
   "cell_type": "code",
   "execution_count": 25,
   "metadata": {},
   "outputs": [
    {
     "name": "stdout",
     "output_type": "stream",
     "text": [
      "Supermarkets\n",
      "0.0037432999060321623\n",
      "Wireless\n",
      "0.004734173410570089\n",
      "Utilities\n",
      "0.008862813012811444\n",
      "Warehousing\n",
      "0.010239026213558563\n",
      "Telecommunications\n",
      "0.010349123269618331\n",
      "Writing and Editing\n",
      "0.012991452615052801\n",
      "Wine and Spirits\n",
      "0.015193393736248189\n",
      "Sporting Goods\n",
      "0.01656960693699531\n",
      "Research\n",
      "0.018166014249861966\n",
      "Government Administration\n",
      "0.021468925931655048\n",
      "Veterinary\n",
      "0.02157902298771482\n",
      "Wholesale\n",
      "0.026753584622523984\n",
      "Retail\n",
      "0.030386787472496377\n",
      "Environmental Services\n",
      "0.03324931093005039\n",
      "Management Consulting\n",
      "0.03946979459742737\n",
      "Renewables & Environment\n",
      "0.04756192821782042\n",
      "Law Practice\n",
      "0.05020425756325489\n",
      "Venture Capital & Private Equity\n",
      "0.05020425756325489\n",
      "Transportation/Trucking/Railroad\n",
      "0.05356221777307786\n",
      "Ranching\n",
      "0.054938430973824975\n"
     ]
    }
   ],
   "source": [
    "for i in np.argsort(repartition)[:20]:\n",
    "    print(industry_dict[i])\n",
    "    print(repartition[i]*100)"
   ]
  },
  {
   "cell_type": "code",
   "execution_count": 27,
   "metadata": {},
   "outputs": [
    {
     "data": {
      "text/plain": [
       "118"
      ]
     },
     "execution_count": 27,
     "metadata": {},
     "output_type": "execute_result"
    }
   ],
   "source": [
    "len([i for i in repartition if i >0.001])"
   ]
  },
  {
   "cell_type": "code",
   "execution_count": 28,
   "metadata": {},
   "outputs": [],
   "source": [
    "new_ind_dict = {}"
   ]
  },
  {
   "cell_type": "code",
   "execution_count": null,
   "metadata": {},
   "outputs": [],
   "source": [
    "for k, v in industry_dict.items()"
   ]
  }
 ],
 "metadata": {
  "kernelspec": {
   "display_name": "cuda10",
   "language": "python",
   "name": "cuda10"
  },
  "language_info": {
   "codemirror_mode": {
    "name": "ipython",
    "version": 3
   },
   "file_extension": ".py",
   "mimetype": "text/x-python",
   "name": "python",
   "nbconvert_exporter": "python",
   "pygments_lexer": "ipython3",
   "version": "3.7.2"
  }
 },
 "nbformat": 4,
 "nbformat_minor": 4
}
