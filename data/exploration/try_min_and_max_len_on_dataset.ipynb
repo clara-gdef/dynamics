{
 "cells": [
  {
   "cell_type": "code",
   "execution_count": 1,
   "metadata": {},
   "outputs": [],
   "source": [
    "import os\n",
    "import pickle as pkl\n",
    "import ipdb\n",
    "import yaml\n",
    "from tqdm import tqdm\n",
    "import numpy as np"
   ]
  },
  {
   "cell_type": "code",
   "execution_count": 2,
   "metadata": {},
   "outputs": [],
   "source": [
    "global CFG\n",
    "with open(\"../../config.yaml\", \"r\") as ymlfile:\n",
    "    CFG = yaml.load(ymlfile, Loader=yaml.SafeLoader)"
   ]
  },
  {
   "cell_type": "code",
   "execution_count": 3,
   "metadata": {},
   "outputs": [],
   "source": [
    "ppl_file = os.path.join(CFG[\"gpudatadir\"], \"profiles_jobs_skills_edu_fr_only_TRAIN.pkl\")\n",
    "with open(ppl_file,'rb') as fp:\n",
    "    data = pkl.load(fp)"
   ]
  },
  {
   "cell_type": "code",
   "execution_count": 24,
   "metadata": {},
   "outputs": [],
   "source": [
    "mins = [0, 3, 5, 10, 15]\n",
    "maxs = [68, 89, 127, 256, 512]\n",
    "support = {}"
   ]
  },
  {
   "cell_type": "code",
   "execution_count": 21,
   "metadata": {},
   "outputs": [],
   "source": [
    "def select_relevant_profiles(data, min_len, max_len):\n",
    "    selected = 0\n",
    "    for person in tqdm(data, desc=\"computing for min = \" + str(min_len) + \" and max = \" + str(max_len)):\n",
    "        flag = False\n",
    "        for job in person[-1]:\n",
    "            if len(job[\"job\"]) < min_len or len(job[\"job\"]) > max_len:\n",
    "                flag = True\n",
    "        if not flag:\n",
    "            selected +=1\n",
    "    return (selected, 100*selected/len(data))"
   ]
  },
  {
   "cell_type": "code",
   "execution_count": 25,
   "metadata": {},
   "outputs": [
    {
     "name": "stderr",
     "output_type": "stream",
     "text": [
      "computing for min = 0 and max = 68: 100%|██████████| 200094/200094 [00:00<00:00, 347908.75it/s]\n",
      "computing for min = 0 and max = 89: 100%|██████████| 200094/200094 [00:00<00:00, 368230.15it/s]\n",
      "computing for min = 0 and max = 127: 100%|██████████| 200094/200094 [00:00<00:00, 407000.54it/s]\n",
      "computing for min = 0 and max = 256: 100%|██████████| 200094/200094 [00:00<00:00, 406804.05it/s]\n",
      "computing for min = 0 and max = 512: 100%|██████████| 200094/200094 [00:00<00:00, 427705.39it/s]\n",
      "computing for min = 3 and max = 68: 100%|██████████| 200094/200094 [00:00<00:00, 416710.77it/s]\n",
      "computing for min = 3 and max = 89: 100%|██████████| 200094/200094 [00:00<00:00, 396256.52it/s]\n",
      "computing for min = 3 and max = 127: 100%|██████████| 200094/200094 [00:00<00:00, 398360.27it/s]\n",
      "computing for min = 3 and max = 256: 100%|██████████| 200094/200094 [00:00<00:00, 408863.19it/s]\n",
      "computing for min = 3 and max = 512: 100%|██████████| 200094/200094 [00:00<00:00, 425569.76it/s]\n",
      "computing for min = 5 and max = 68: 100%|██████████| 200094/200094 [00:00<00:00, 351222.40it/s]\n",
      "computing for min = 5 and max = 89: 100%|██████████| 200094/200094 [00:00<00:00, 380959.22it/s]\n",
      "computing for min = 5 and max = 127: 100%|██████████| 200094/200094 [00:00<00:00, 400269.88it/s]\n",
      "computing for min = 5 and max = 256: 100%|██████████| 200094/200094 [00:00<00:00, 425699.07it/s]\n",
      "computing for min = 5 and max = 512: 100%|██████████| 200094/200094 [00:00<00:00, 430332.04it/s]\n",
      "computing for min = 10 and max = 68: 100%|██████████| 200094/200094 [00:00<00:00, 404278.30it/s]\n",
      "computing for min = 10 and max = 89: 100%|██████████| 200094/200094 [00:00<00:00, 429778.69it/s]\n",
      "computing for min = 10 and max = 127: 100%|██████████| 200094/200094 [00:00<00:00, 428099.41it/s]\n",
      "computing for min = 10 and max = 256: 100%|██████████| 200094/200094 [00:00<00:00, 420176.49it/s]\n",
      "computing for min = 10 and max = 512: 100%|██████████| 200094/200094 [00:00<00:00, 412777.69it/s]\n",
      "computing for min = 15 and max = 68: 100%|██████████| 200094/200094 [00:00<00:00, 378518.53it/s]\n",
      "computing for min = 15 and max = 89: 100%|██████████| 200094/200094 [00:00<00:00, 395727.01it/s]\n",
      "computing for min = 15 and max = 127: 100%|██████████| 200094/200094 [00:00<00:00, 424240.30it/s]\n",
      "computing for min = 15 and max = 256: 100%|██████████| 200094/200094 [00:00<00:00, 436998.44it/s]\n",
      "computing for min = 15 and max = 512: 100%|██████████| 200094/200094 [00:00<00:00, 434014.46it/s]\n"
     ]
    }
   ],
   "source": [
    "for min_len in mins:\n",
    "    support[min_len] = {}\n",
    "    for max_len in maxs:\n",
    "        support[min_len][max_len] = select_relevant_profiles(data, min_len, max_len)"
   ]
  },
  {
   "cell_type": "code",
   "execution_count": 26,
   "metadata": {},
   "outputs": [
    {
     "data": {
      "text/plain": [
       "{0: {68: (61888, 30.92946315231841),\n",
       "  89: (89817, 44.8874029206273),\n",
       "  127: (130963, 65.45073815306806),\n",
       "  256: (186821, 93.36661768968585),\n",
       "  512: (200091, 99.9985007046688)},\n",
       " 3: {68: (61356, 30.663588113586613),\n",
       "  89: (89188, 44.573050666186894),\n",
       "  127: (130241, 65.08990774336063),\n",
       "  256: (185991, 92.95181264805541),\n",
       "  512: (199224, 99.56520435395365)},\n",
       " 5: {68: (57740, 28.85643747438704),\n",
       "  89: (84956, 42.45804471898208),\n",
       "  127: (125276, 62.60857397023399),\n",
       "  256: (180225, 90.0701670214999),\n",
       "  512: (193280, 96.59460053774725)},\n",
       " 10: {68: (40996, 20.488370465881037),\n",
       "  89: (64309, 32.139394484592245),\n",
       "  127: (100165, 50.058972283026975),\n",
       "  256: (150197, 75.06322028646537),\n",
       "  512: (162134, 81.02891640928763)},\n",
       " 15: {68: (24653, 12.320709266644677),\n",
       "  89: (42565, 21.272501924095675),\n",
       "  127: (72005, 35.98558677421612),\n",
       "  256: (114877, 57.41151658720401),\n",
       "  512: (125346, 62.64355752796186)}}"
      ]
     },
     "execution_count": 26,
     "metadata": {},
     "output_type": "execute_result"
    }
   ],
   "source": [
    "support"
   ]
  },
  {
   "cell_type": "code",
   "execution_count": 30,
   "metadata": {},
   "outputs": [],
   "source": [
    "def select_relevant_profiles_and_jobs(data, min_len, max_len):\n",
    "    selected = 0\n",
    "    all_jobs = 0\n",
    "    for person in tqdm(data, desc=\"computing for min = \" + str(min_len) + \" and max = \" + str(max_len)):\n",
    "        flag = False\n",
    "        for job in person[-1]:\n",
    "            if len(job[\"job\"]) < min_len or len(job[\"job\"]) > max_len:\n",
    "                flag = True\n",
    "        if not flag:\n",
    "            selected += len(person[-1])\n",
    "        all_jobs += len(person[-1])\n",
    "    return (selected, 100*selected/all_jobs)"
   ]
  },
  {
   "cell_type": "code",
   "execution_count": 31,
   "metadata": {},
   "outputs": [
    {
     "name": "stderr",
     "output_type": "stream",
     "text": [
      "computing for min = 0 and max = 68: 100%|██████████| 200094/200094 [00:00<00:00, 327465.61it/s]\n",
      "computing for min = 0 and max = 89: 100%|██████████| 200094/200094 [00:00<00:00, 387758.26it/s]\n",
      "computing for min = 0 and max = 127: 100%|██████████| 200094/200094 [00:00<00:00, 401640.47it/s]\n",
      "computing for min = 0 and max = 256: 100%|██████████| 200094/200094 [00:00<00:00, 380606.60it/s]\n",
      "computing for min = 0 and max = 512: 100%|██████████| 200094/200094 [00:00<00:00, 402244.53it/s]\n",
      "computing for min = 3 and max = 68: 100%|██████████| 200094/200094 [00:00<00:00, 372446.89it/s]\n",
      "computing for min = 3 and max = 89: 100%|██████████| 200094/200094 [00:00<00:00, 388453.55it/s]\n",
      "computing for min = 3 and max = 127: 100%|██████████| 200094/200094 [00:00<00:00, 362829.64it/s]\n",
      "computing for min = 3 and max = 256: 100%|██████████| 200094/200094 [00:00<00:00, 391318.20it/s]\n",
      "computing for min = 3 and max = 512: 100%|██████████| 200094/200094 [00:00<00:00, 353161.04it/s]\n",
      "computing for min = 5 and max = 68: 100%|██████████| 200094/200094 [00:00<00:00, 382830.79it/s]\n",
      "computing for min = 5 and max = 89: 100%|██████████| 200094/200094 [00:00<00:00, 389140.87it/s]\n",
      "computing for min = 5 and max = 127: 100%|██████████| 200094/200094 [00:00<00:00, 371896.97it/s]\n",
      "computing for min = 5 and max = 256: 100%|██████████| 200094/200094 [00:00<00:00, 387327.87it/s]\n",
      "computing for min = 5 and max = 512: 100%|██████████| 200094/200094 [00:00<00:00, 382140.85it/s]\n",
      "computing for min = 10 and max = 68: 100%|██████████| 200094/200094 [00:00<00:00, 382067.96it/s]\n",
      "computing for min = 10 and max = 89: 100%|██████████| 200094/200094 [00:00<00:00, 396469.17it/s]\n",
      "computing for min = 10 and max = 127: 100%|██████████| 200094/200094 [00:00<00:00, 382394.71it/s]\n",
      "computing for min = 10 and max = 256: 100%|██████████| 200094/200094 [00:00<00:00, 385623.45it/s]\n",
      "computing for min = 10 and max = 512: 100%|██████████| 200094/200094 [00:00<00:00, 394626.00it/s]\n",
      "computing for min = 15 and max = 68: 100%|██████████| 200094/200094 [00:00<00:00, 387866.50it/s]\n",
      "computing for min = 15 and max = 89: 100%|██████████| 200094/200094 [00:00<00:00, 394115.45it/s]\n",
      "computing for min = 15 and max = 127: 100%|██████████| 200094/200094 [00:00<00:00, 318158.15it/s]\n",
      "computing for min = 15 and max = 256: 100%|██████████| 200094/200094 [00:00<00:00, 349722.40it/s]\n",
      "computing for min = 15 and max = 512: 100%|██████████| 200094/200094 [00:00<00:00, 356227.12it/s]"
     ]
    },
    {
     "name": "stdout",
     "output_type": "stream",
     "text": [
      "{0: {68: (361520, 29.549322160520365), 89: (530150, 43.33252141900827), 127: (782817, 63.98459760381741), 256: (1134726, 92.74835178667469), 512: (1223414, 99.99738443707365)}, 3: {68: (357572, 29.22662708448105), 89: (525401, 42.94435553346858), 127: (777122, 63.519109139267286), 256: (1128032, 92.20120871701734), 512: (1216387, 99.4230231657139)}, 5: {68: (332743, 27.197195462652214), 89: (496077, 40.54751905682801), 127: (741974, 60.6462402100297), 256: (1086624, 88.81667029031114), 512: (1173418, 95.91089431000633)}, 10: {68: (226217, 18.490149953492022), 89: (361953, 29.584713996367636), 127: (575498, 47.03910103102221), 256: (883188, 72.1885559313611), 512: (960766, 78.5294978282654)}, 15: {68: (129718, 10.602674740037566), 89: (230184, 18.814398020018864), 127: (400043, 32.69805124214718), 256: (657086, 53.707805657135665), 512: (723761, 59.15757622322522)}}\n"
     ]
    },
    {
     "name": "stderr",
     "output_type": "stream",
     "text": [
      "\n"
     ]
    }
   ],
   "source": [
    "for min_len in mins:\n",
    "    support[min_len] = {}\n",
    "    for max_len in maxs:\n",
    "        support[min_len][max_len] = select_relevant_profiles_and_jobs(data, min_len, max_len)\n",
    "print(support)"
   ]
  },
  {
   "cell_type": "code",
   "execution_count": 32,
   "metadata": {},
   "outputs": [
    {
     "data": {
      "text/plain": [
       "{0: {68: (361520, 29.549322160520365),\n",
       "  89: (530150, 43.33252141900827),\n",
       "  127: (782817, 63.98459760381741),\n",
       "  256: (1134726, 92.74835178667469),\n",
       "  512: (1223414, 99.99738443707365)},\n",
       " 3: {68: (357572, 29.22662708448105),\n",
       "  89: (525401, 42.94435553346858),\n",
       "  127: (777122, 63.519109139267286),\n",
       "  256: (1128032, 92.20120871701734),\n",
       "  512: (1216387, 99.4230231657139)},\n",
       " 5: {68: (332743, 27.197195462652214),\n",
       "  89: (496077, 40.54751905682801),\n",
       "  127: (741974, 60.6462402100297),\n",
       "  256: (1086624, 88.81667029031114),\n",
       "  512: (1173418, 95.91089431000633)},\n",
       " 10: {68: (226217, 18.490149953492022),\n",
       "  89: (361953, 29.584713996367636),\n",
       "  127: (575498, 47.03910103102221),\n",
       "  256: (883188, 72.1885559313611),\n",
       "  512: (960766, 78.5294978282654)},\n",
       " 15: {68: (129718, 10.602674740037566),\n",
       "  89: (230184, 18.814398020018864),\n",
       "  127: (400043, 32.69805124214718),\n",
       "  256: (657086, 53.707805657135665),\n",
       "  512: (723761, 59.15757622322522)}}"
      ]
     },
     "execution_count": 32,
     "metadata": {},
     "output_type": "execute_result"
    }
   ],
   "source": [
    "support"
   ]
  }
 ],
 "metadata": {
  "kernelspec": {
   "display_name": "cuda10",
   "language": "python",
   "name": "cuda10"
  },
  "language_info": {
   "codemirror_mode": {
    "name": "ipython",
    "version": 3
   },
   "file_extension": ".py",
   "mimetype": "text/x-python",
   "name": "python",
   "nbconvert_exporter": "python",
   "pygments_lexer": "ipython3",
   "version": "3.7.2"
  }
 },
 "nbformat": 4,
 "nbformat_minor": 4
}
